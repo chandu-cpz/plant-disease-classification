{
 "cells": [
  {
   "cell_type": "code",
   "execution_count": 1,
   "id": "9f8ec758",
   "metadata": {
    "_cell_guid": "b1076dfc-b9ad-4769-8c92-a6c4dae69d19",
    "_uuid": "8f2839f25d086af736a60e9eeb907d3b93b6e0e5",
    "execution": {
     "iopub.execute_input": "2024-01-21T11:00:49.642418Z",
     "iopub.status.busy": "2024-01-21T11:00:49.642136Z",
     "iopub.status.idle": "2024-01-21T11:01:02.914517Z",
     "shell.execute_reply": "2024-01-21T11:01:02.913721Z"
    },
    "papermill": {
     "duration": 13.282722,
     "end_time": "2024-01-21T11:01:02.916872",
     "exception": false,
     "start_time": "2024-01-21T11:00:49.634150",
     "status": "completed"
    },
    "tags": []
   },
   "outputs": [
    {
     "name": "stderr",
     "output_type": "stream",
     "text": [
      "/opt/conda/lib/python3.10/site-packages/scipy/__init__.py:146: UserWarning: A NumPy version >=1.16.5 and <1.23.0 is required for this version of SciPy (detected version 1.24.3\n",
      "  warnings.warn(f\"A NumPy version >={np_minversion} and <{np_maxversion}\"\n"
     ]
    }
   ],
   "source": [
    "import tensorflow as tf\n",
    "from tensorflow.keras import layers, models\n",
    "from tensorflow.keras.preprocessing.image import ImageDataGenerator"
   ]
  },
  {
   "cell_type": "code",
   "execution_count": 2,
   "id": "9e5f85fe",
   "metadata": {
    "execution": {
     "iopub.execute_input": "2024-01-21T11:01:02.931819Z",
     "iopub.status.busy": "2024-01-21T11:01:02.930732Z",
     "iopub.status.idle": "2024-01-21T11:01:03.559857Z",
     "shell.execute_reply": "2024-01-21T11:01:03.558946Z"
    },
    "papermill": {
     "duration": 0.638397,
     "end_time": "2024-01-21T11:01:03.561868",
     "exception": false,
     "start_time": "2024-01-21T11:01:02.923471",
     "status": "completed"
    },
    "tags": []
   },
   "outputs": [
    {
     "name": "stdout",
     "output_type": "stream",
     "text": [
      "1 Physical GPUs, 1 Logical GPU\n"
     ]
    }
   ],
   "source": [
    "gpus = tf.config.experimental.list_physical_devices('GPU')\n",
    "if gpus:\n",
    "  try:\n",
    "    tf.config.experimental.set_visible_devices(gpus[0], 'GPU')\n",
    "    tf.config.experimental.set_visible_devices(gpus[1], 'GPU')\n",
    "    logical_gpus = tf.config.experimental.list_logical_devices('GPU')\n",
    "    print(len(logical_gpus), \"Physical GPUs,\", len(logical_gpus), \"Logical GPU\")\n",
    "  except RuntimeError as e:\n",
    "    print(e)\n"
   ]
  },
  {
   "cell_type": "code",
   "execution_count": 3,
   "id": "c9298cd2",
   "metadata": {
    "execution": {
     "iopub.execute_input": "2024-01-21T11:01:03.576210Z",
     "iopub.status.busy": "2024-01-21T11:01:03.575840Z",
     "iopub.status.idle": "2024-01-21T11:01:03.582568Z",
     "shell.execute_reply": "2024-01-21T11:01:03.581664Z"
    },
    "papermill": {
     "duration": 0.016342,
     "end_time": "2024-01-21T11:01:03.584597",
     "exception": false,
     "start_time": "2024-01-21T11:01:03.568255",
     "status": "completed"
    },
    "tags": []
   },
   "outputs": [
    {
     "data": {
      "text/plain": [
       "[PhysicalDevice(name='/physical_device:GPU:0', device_type='GPU'),\n",
       " PhysicalDevice(name='/physical_device:GPU:1', device_type='GPU')]"
      ]
     },
     "execution_count": 3,
     "metadata": {},
     "output_type": "execute_result"
    }
   ],
   "source": [
    "gpus"
   ]
  },
  {
   "cell_type": "code",
   "execution_count": 4,
   "id": "61847cc6",
   "metadata": {
    "execution": {
     "iopub.execute_input": "2024-01-21T11:01:03.599498Z",
     "iopub.status.busy": "2024-01-21T11:01:03.598702Z",
     "iopub.status.idle": "2024-01-21T11:01:03.602976Z",
     "shell.execute_reply": "2024-01-21T11:01:03.602133Z"
    },
    "papermill": {
     "duration": 0.013828,
     "end_time": "2024-01-21T11:01:03.605028",
     "exception": false,
     "start_time": "2024-01-21T11:01:03.591200",
     "status": "completed"
    },
    "tags": []
   },
   "outputs": [],
   "source": [
    "IMG_SIZE = (224, 224)\n",
    "BATCH_SIZE = 32\n",
    "EPOCHS = 10\n"
   ]
  },
  {
   "cell_type": "code",
   "execution_count": 5,
   "id": "d9614796",
   "metadata": {
    "execution": {
     "iopub.execute_input": "2024-01-21T11:01:03.619760Z",
     "iopub.status.busy": "2024-01-21T11:01:03.619210Z",
     "iopub.status.idle": "2024-01-21T11:01:03.623532Z",
     "shell.execute_reply": "2024-01-21T11:01:03.622630Z"
    },
    "papermill": {
     "duration": 0.013889,
     "end_time": "2024-01-21T11:01:03.625461",
     "exception": false,
     "start_time": "2024-01-21T11:01:03.611572",
     "status": "completed"
    },
    "tags": []
   },
   "outputs": [],
   "source": [
    "train_datagen = ImageDataGenerator(\n",
    "    rescale=1./255,\n",
    "    shear_range=0.2,\n",
    "    zoom_range=0.2,\n",
    "    horizontal_flip=True,\n",
    "    validation_split=0.2\n",
    ")"
   ]
  },
  {
   "cell_type": "code",
   "execution_count": 6,
   "id": "980ee7a4",
   "metadata": {
    "execution": {
     "iopub.execute_input": "2024-01-21T11:01:03.639241Z",
     "iopub.status.busy": "2024-01-21T11:01:03.638946Z",
     "iopub.status.idle": "2024-01-21T11:01:09.880825Z",
     "shell.execute_reply": "2024-01-21T11:01:09.879889Z"
    },
    "papermill": {
     "duration": 6.250931,
     "end_time": "2024-01-21T11:01:09.882904",
     "exception": false,
     "start_time": "2024-01-21T11:01:03.631973",
     "status": "completed"
    },
    "tags": []
   },
   "outputs": [
    {
     "name": "stdout",
     "output_type": "stream",
     "text": [
      "Found 19083 images belonging to 19 classes.\n"
     ]
    }
   ],
   "source": [
    "train_generator = train_datagen.flow_from_directory(\n",
    "    '/kaggle/input/v1-dataset-plant-village/Plant_leave_diseases_dataset_with_augmentation',\n",
    "    target_size=IMG_SIZE,\n",
    "    batch_size=BATCH_SIZE,\n",
    "    class_mode='categorical',\n",
    "    subset='training'\n",
    ")"
   ]
  },
  {
   "cell_type": "code",
   "execution_count": 7,
   "id": "e90c979c",
   "metadata": {
    "execution": {
     "iopub.execute_input": "2024-01-21T11:01:09.897383Z",
     "iopub.status.busy": "2024-01-21T11:01:09.896841Z",
     "iopub.status.idle": "2024-01-21T11:01:12.068545Z",
     "shell.execute_reply": "2024-01-21T11:01:12.067803Z"
    },
    "papermill": {
     "duration": 2.181135,
     "end_time": "2024-01-21T11:01:12.070725",
     "exception": false,
     "start_time": "2024-01-21T11:01:09.889590",
     "status": "completed"
    },
    "tags": []
   },
   "outputs": [
    {
     "name": "stdout",
     "output_type": "stream",
     "text": [
      "Found 4766 images belonging to 19 classes.\n"
     ]
    }
   ],
   "source": [
    "validation_generator = train_datagen.flow_from_directory(\n",
    "    '/kaggle/input/v1-dataset-plant-village/Plant_leave_diseases_dataset_with_augmentation',\n",
    "    target_size=IMG_SIZE,\n",
    "    batch_size=BATCH_SIZE,\n",
    "    class_mode='categorical',\n",
    "    subset='validation'\n",
    ")"
   ]
  },
  {
   "cell_type": "code",
   "execution_count": 8,
   "id": "f427b2e2",
   "metadata": {
    "execution": {
     "iopub.execute_input": "2024-01-21T11:01:12.085541Z",
     "iopub.status.busy": "2024-01-21T11:01:12.084857Z",
     "iopub.status.idle": "2024-01-21T11:01:12.730161Z",
     "shell.execute_reply": "2024-01-21T11:01:12.729121Z"
    },
    "papermill": {
     "duration": 0.655224,
     "end_time": "2024-01-21T11:01:12.732572",
     "exception": false,
     "start_time": "2024-01-21T11:01:12.077348",
     "status": "completed"
    },
    "tags": []
   },
   "outputs": [],
   "source": [
    "strategy = tf.distribute.MirroredStrategy()\n",
    "with strategy.scope():\n",
    "    model = models.Sequential()\n",
    "\n",
    "    model.add(layers.Conv2D(64, (3, 3), activation='relu', input_shape=(224, 224, 3)))\n",
    "    model.add(layers.Conv2D(64, (3, 3), activation='relu'))\n",
    "    model.add(layers.MaxPooling2D((2, 2)))\n",
    "\n",
    "    model.add(layers.Conv2D(128, (3, 3), activation='relu'))\n",
    "    model.add(layers.Conv2D(128, (3, 3), activation='relu'))\n",
    "    model.add(layers.MaxPooling2D((2, 2)))\n",
    "\n",
    "    model.add(layers.Conv2D(256, (3, 3), activation='relu'))\n",
    "    model.add(layers.Conv2D(256, (3, 3), activation='relu'))\n",
    "    model.add(layers.Conv2D(256, (3, 3), activation='relu'))\n",
    "    model.add(layers.MaxPooling2D((2, 2)))\n",
    "\n",
    "    model.add(layers.Conv2D(512, (3, 3), activation='relu'))\n",
    "    model.add(layers.Conv2D(512, (3, 3), activation='relu'))\n",
    "    model.add(layers.Conv2D(512, (3, 3), activation='relu'))\n",
    "    model.add(layers.MaxPooling2D((2, 2)))\n",
    "\n",
    "    model.add(layers.Conv2D(512, (3, 3), activation='relu'))\n",
    "    model.add(layers.Conv2D(512, (3, 3), activation='relu'))\n",
    "    model.add(layers.Conv2D(512, (3, 3), activation='relu'))\n",
    "    model.add(layers.MaxPooling2D((2, 2)))\n",
    "\n",
    "    model.add(layers.Flatten())\n",
    "    model.add(layers.Dense(4096, activation='relu'))\n",
    "    model.add(layers.Dense(4096, activation='relu'))\n",
    "    model.add(layers.Dense(19, activation='softmax'))  \n"
   ]
  },
  {
   "cell_type": "code",
   "execution_count": null,
   "id": "c2efd366",
   "metadata": {
    "papermill": {
     "duration": 0.0065,
     "end_time": "2024-01-21T11:01:12.746411",
     "exception": false,
     "start_time": "2024-01-21T11:01:12.739911",
     "status": "completed"
    },
    "tags": []
   },
   "outputs": [],
   "source": []
  },
  {
   "cell_type": "code",
   "execution_count": 9,
   "id": "29bb108d",
   "metadata": {
    "execution": {
     "iopub.execute_input": "2024-01-21T11:01:12.761503Z",
     "iopub.status.busy": "2024-01-21T11:01:12.760665Z",
     "iopub.status.idle": "2024-01-21T11:01:12.777414Z",
     "shell.execute_reply": "2024-01-21T11:01:12.776422Z"
    },
    "papermill": {
     "duration": 0.027263,
     "end_time": "2024-01-21T11:01:12.780345",
     "exception": false,
     "start_time": "2024-01-21T11:01:12.753082",
     "status": "completed"
    },
    "tags": []
   },
   "outputs": [],
   "source": [
    "model.compile(optimizer='adam', loss='categorical_crossentropy', metrics=['accuracy'])"
   ]
  },
  {
   "cell_type": "code",
   "execution_count": 10,
   "id": "3d3c68dc",
   "metadata": {
    "execution": {
     "iopub.execute_input": "2024-01-21T11:01:12.800875Z",
     "iopub.status.busy": "2024-01-21T11:01:12.800267Z",
     "iopub.status.idle": "2024-01-21T11:52:48.055083Z",
     "shell.execute_reply": "2024-01-21T11:52:48.054149Z"
    },
    "papermill": {
     "duration": 3095.768717,
     "end_time": "2024-01-21T11:52:48.558837",
     "exception": false,
     "start_time": "2024-01-21T11:01:12.790120",
     "status": "completed"
    },
    "tags": []
   },
   "outputs": [
    {
     "name": "stdout",
     "output_type": "stream",
     "text": [
      "Epoch 1/10\n",
      "596/596 [==============================] - 359s 571ms/step - loss: 3.1536 - accuracy: 0.0868 - val_loss: 2.9124 - val_accuracy: 0.0889\n",
      "Epoch 2/10\n",
      "596/596 [==============================] - 302s 506ms/step - loss: 2.9120 - accuracy: 0.0892 - val_loss: 2.9119 - val_accuracy: 0.0893\n",
      "Epoch 3/10\n",
      "596/596 [==============================] - 298s 499ms/step - loss: 2.9115 - accuracy: 0.0885 - val_loss: 2.9113 - val_accuracy: 0.0887\n",
      "Epoch 4/10\n",
      "596/596 [==============================] - 296s 496ms/step - loss: 2.9115 - accuracy: 0.0888 - val_loss: 2.9119 - val_accuracy: 0.0893\n",
      "Epoch 5/10\n",
      "596/596 [==============================] - 293s 491ms/step - loss: 2.9116 - accuracy: 0.0884 - val_loss: 2.9114 - val_accuracy: 0.0889\n",
      "Epoch 6/10\n",
      "596/596 [==============================] - 293s 491ms/step - loss: 2.9115 - accuracy: 0.0883 - val_loss: 2.9107 - val_accuracy: 0.0891\n",
      "Epoch 7/10\n",
      "596/596 [==============================] - 295s 495ms/step - loss: 2.9113 - accuracy: 0.0883 - val_loss: 2.9104 - val_accuracy: 0.0897\n",
      "Epoch 8/10\n",
      "596/596 [==============================] - 293s 492ms/step - loss: 2.9110 - accuracy: 0.0891 - val_loss: 2.9107 - val_accuracy: 0.0895\n",
      "Epoch 9/10\n",
      "596/596 [==============================] - 293s 491ms/step - loss: 2.9113 - accuracy: 0.0892 - val_loss: 2.9103 - val_accuracy: 0.0897\n",
      "Epoch 10/10\n",
      "596/596 [==============================] - 295s 495ms/step - loss: 2.9112 - accuracy: 0.0881 - val_loss: 2.9098 - val_accuracy: 0.0891\n"
     ]
    }
   ],
   "source": [
    "history = model.fit(\n",
    "    train_generator,\n",
    "    steps_per_epoch=train_generator.samples // BATCH_SIZE,\n",
    "    epochs=EPOCHS,\n",
    "    validation_data=validation_generator,\n",
    "    validation_steps=validation_generator.samples // BATCH_SIZE\n",
    ")"
   ]
  },
  {
   "cell_type": "code",
   "execution_count": 11,
   "id": "6a725ae2",
   "metadata": {
    "execution": {
     "iopub.execute_input": "2024-01-21T11:52:49.617338Z",
     "iopub.status.busy": "2024-01-21T11:52:49.616575Z",
     "iopub.status.idle": "2024-01-21T11:53:51.070493Z",
     "shell.execute_reply": "2024-01-21T11:53:51.069495Z"
    },
    "papermill": {
     "duration": 62.449379,
     "end_time": "2024-01-21T11:53:51.558776",
     "exception": false,
     "start_time": "2024-01-21T11:52:49.109397",
     "status": "completed"
    },
    "tags": []
   },
   "outputs": [
    {
     "name": "stdout",
     "output_type": "stream",
     "text": [
      "149/149 [==============================] - 61s 408ms/step - loss: 2.9101 - accuracy: 0.0892\n",
      "Validation Accuracy: 8.92%\n"
     ]
    }
   ],
   "source": [
    "loss, accuracy = model.evaluate(validation_generator)\n",
    "print(f'Validation Accuracy: {accuracy * 100:.2f}%')"
   ]
  },
  {
   "cell_type": "markdown",
   "id": "4d79a002",
   "metadata": {
    "papermill": {
     "duration": 0.538368,
     "end_time": "2024-01-21T11:53:52.585356",
     "exception": false,
     "start_time": "2024-01-21T11:53:52.046988",
     "status": "completed"
    },
    "tags": []
   },
   "source": [
    "v2"
   ]
  },
  {
   "cell_type": "code",
   "execution_count": 12,
   "id": "c0204a42",
   "metadata": {
    "execution": {
     "iopub.execute_input": "2024-01-21T11:53:53.581473Z",
     "iopub.status.busy": "2024-01-21T11:53:53.580744Z",
     "iopub.status.idle": "2024-01-21T11:53:53.585025Z",
     "shell.execute_reply": "2024-01-21T11:53:53.584174Z"
    },
    "papermill": {
     "duration": 0.495963,
     "end_time": "2024-01-21T11:53:53.586992",
     "exception": false,
     "start_time": "2024-01-21T11:53:53.091029",
     "status": "completed"
    },
    "tags": []
   },
   "outputs": [],
   "source": [
    "from keras.applications.vgg16 import VGG16\n",
    "import keras"
   ]
  },
  {
   "cell_type": "code",
   "execution_count": 13,
   "id": "d0731250",
   "metadata": {
    "execution": {
     "iopub.execute_input": "2024-01-21T11:53:54.572947Z",
     "iopub.status.busy": "2024-01-21T11:53:54.572172Z",
     "iopub.status.idle": "2024-01-21T11:53:55.426327Z",
     "shell.execute_reply": "2024-01-21T11:53:55.425418Z"
    },
    "papermill": {
     "duration": 1.354874,
     "end_time": "2024-01-21T11:53:55.428920",
     "exception": false,
     "start_time": "2024-01-21T11:53:54.074046",
     "status": "completed"
    },
    "tags": []
   },
   "outputs": [
    {
     "name": "stdout",
     "output_type": "stream",
     "text": [
      "Downloading data from https://storage.googleapis.com/tensorflow/keras-applications/vgg16/vgg16_weights_tf_dim_ordering_tf_kernels_notop.h5\n",
      "58889256/58889256 [==============================] - 0s 0us/step\n"
     ]
    }
   ],
   "source": [
    "strategy_1 = tf.distribute.MirroredStrategy()\n",
    "with strategy_1.scope():\n",
    "    base_model=VGG16(include_top=False,input_shape=(224,224,3))\n",
    "    base_model.trainable=False\n",
    "    model_1=keras.models.Sequential()\n",
    "    model_1.add(base_model)\n",
    "    model_1.add(layers.Flatten())\n",
    "    model_1.add(layers.Dense(4096, activation='relu'))\n",
    "    model_1.add(layers.Dense(4096, activation='relu'))\n",
    "    model_1.add(layers.Dense(19, activation='softmax'))  \n"
   ]
  },
  {
   "cell_type": "code",
   "execution_count": 14,
   "id": "c82c2b8a",
   "metadata": {
    "execution": {
     "iopub.execute_input": "2024-01-21T11:53:56.466363Z",
     "iopub.status.busy": "2024-01-21T11:53:56.465370Z",
     "iopub.status.idle": "2024-01-21T11:53:56.478518Z",
     "shell.execute_reply": "2024-01-21T11:53:56.477813Z"
    },
    "papermill": {
     "duration": 0.506864,
     "end_time": "2024-01-21T11:53:56.480345",
     "exception": false,
     "start_time": "2024-01-21T11:53:55.973481",
     "status": "completed"
    },
    "tags": []
   },
   "outputs": [],
   "source": [
    "model_1.compile(optimizer='adam', loss='categorical_crossentropy', metrics=['accuracy'])"
   ]
  },
  {
   "cell_type": "code",
   "execution_count": 15,
   "id": "8d8f178e",
   "metadata": {
    "execution": {
     "iopub.execute_input": "2024-01-21T11:53:57.473714Z",
     "iopub.status.busy": "2024-01-21T11:53:57.473363Z",
     "iopub.status.idle": "2024-01-21T12:44:42.385992Z",
     "shell.execute_reply": "2024-01-21T12:44:42.384968Z"
    },
    "papermill": {
     "duration": 3046.407262,
     "end_time": "2024-01-21T12:44:43.383616",
     "exception": false,
     "start_time": "2024-01-21T11:53:56.976354",
     "status": "completed"
    },
    "tags": []
   },
   "outputs": [
    {
     "name": "stdout",
     "output_type": "stream",
     "text": [
      "Epoch 1/10\n",
      "596/596 [==============================] - 303s 498ms/step - loss: 0.9180 - accuracy: 0.7886 - val_loss: 0.3069 - val_accuracy: 0.8898\n",
      "Epoch 2/10\n",
      "596/596 [==============================] - 296s 497ms/step - loss: 0.2763 - accuracy: 0.9049 - val_loss: 0.2975 - val_accuracy: 0.8986\n",
      "Epoch 3/10\n",
      "596/596 [==============================] - 296s 497ms/step - loss: 0.2113 - accuracy: 0.9265 - val_loss: 0.3540 - val_accuracy: 0.8894\n",
      "Epoch 4/10\n",
      "596/596 [==============================] - 301s 504ms/step - loss: 0.1978 - accuracy: 0.9300 - val_loss: 0.2871 - val_accuracy: 0.9033\n",
      "Epoch 5/10\n",
      "596/596 [==============================] - 302s 507ms/step - loss: 0.1577 - accuracy: 0.9453 - val_loss: 0.2533 - val_accuracy: 0.9179\n",
      "Epoch 6/10\n",
      "596/596 [==============================] - 295s 495ms/step - loss: 0.1738 - accuracy: 0.9424 - val_loss: 0.1957 - val_accuracy: 0.9337\n",
      "Epoch 7/10\n",
      "596/596 [==============================] - 299s 501ms/step - loss: 0.1422 - accuracy: 0.9495 - val_loss: 0.2216 - val_accuracy: 0.9318\n",
      "Epoch 8/10\n",
      "596/596 [==============================] - 300s 502ms/step - loss: 0.1234 - accuracy: 0.9580 - val_loss: 0.2932 - val_accuracy: 0.9136\n",
      "Epoch 9/10\n",
      "596/596 [==============================] - 302s 508ms/step - loss: 0.1193 - accuracy: 0.9609 - val_loss: 0.2124 - val_accuracy: 0.9333\n",
      "Epoch 10/10\n",
      "596/596 [==============================] - 303s 508ms/step - loss: 0.1221 - accuracy: 0.9591 - val_loss: 0.2429 - val_accuracy: 0.9223\n"
     ]
    }
   ],
   "source": [
    "history = model_1.fit(\n",
    "    train_generator,\n",
    "    steps_per_epoch=train_generator.samples // BATCH_SIZE,\n",
    "    epochs=EPOCHS,\n",
    "    validation_data=validation_generator,\n",
    "    validation_steps=validation_generator.samples // BATCH_SIZE\n",
    ")"
   ]
  },
  {
   "cell_type": "code",
   "execution_count": 16,
   "id": "9cccfd7e",
   "metadata": {
    "execution": {
     "iopub.execute_input": "2024-01-21T12:44:45.385105Z",
     "iopub.status.busy": "2024-01-21T12:44:45.383848Z",
     "iopub.status.idle": "2024-01-21T12:45:45.553313Z",
     "shell.execute_reply": "2024-01-21T12:45:45.552152Z"
    },
    "papermill": {
     "duration": 61.142699,
     "end_time": "2024-01-21T12:45:45.555270",
     "exception": false,
     "start_time": "2024-01-21T12:44:44.412571",
     "status": "completed"
    },
    "tags": []
   },
   "outputs": [
    {
     "name": "stdout",
     "output_type": "stream",
     "text": [
      "149/149 [==============================] - 60s 399ms/step - loss: 0.2385 - accuracy: 0.9232\n",
      "Validation Accuracy: 92.32%\n"
     ]
    }
   ],
   "source": [
    "loss, accuracy = model_1.evaluate(validation_generator)\n",
    "print(f'Validation Accuracy: {accuracy * 100:.2f}%')"
   ]
  },
  {
   "cell_type": "code",
   "execution_count": 17,
   "id": "4bc1815e",
   "metadata": {
    "execution": {
     "iopub.execute_input": "2024-01-21T12:45:47.600769Z",
     "iopub.status.busy": "2024-01-21T12:45:47.599712Z",
     "iopub.status.idle": "2024-01-21T12:45:48.902179Z",
     "shell.execute_reply": "2024-01-21T12:45:48.901141Z"
    },
    "papermill": {
     "duration": 2.300544,
     "end_time": "2024-01-21T12:45:48.904501",
     "exception": false,
     "start_time": "2024-01-21T12:45:46.603957",
     "status": "completed"
    },
    "tags": []
   },
   "outputs": [],
   "source": [
    "model.save('/kaggle/working/vgg16-v2.keras')"
   ]
  },
  {
   "cell_type": "code",
   "execution_count": 18,
   "id": "e57e728d",
   "metadata": {
    "execution": {
     "iopub.execute_input": "2024-01-21T12:45:50.916466Z",
     "iopub.status.busy": "2024-01-21T12:45:50.915804Z",
     "iopub.status.idle": "2024-01-21T12:46:13.241938Z",
     "shell.execute_reply": "2024-01-21T12:46:13.240925Z"
    },
    "papermill": {
     "duration": 23.301908,
     "end_time": "2024-01-21T12:46:13.243986",
     "exception": false,
     "start_time": "2024-01-21T12:45:49.942078",
     "status": "completed"
    },
    "tags": []
   },
   "outputs": [
    {
     "name": "stdout",
     "output_type": "stream",
     "text": [
      "  adding: kaggle/working/ (stored 0%)\r\n",
      "  adding: kaggle/working/__notebook__.ipynb (deflated 97%)\r\n",
      "  adding: kaggle/working/vgg16-v2.keras (deflated 42%)\r\n"
     ]
    },
    {
     "data": {
      "text/html": [
       "<a href='file.zip' target='_blank'>file.zip</a><br>"
      ],
      "text/plain": [
       "/kaggle/working/file.zip"
      ]
     },
     "execution_count": 18,
     "metadata": {},
     "output_type": "execute_result"
    }
   ],
   "source": [
    "from IPython.display import FileLink\n",
    "!zip -r file.zip /kaggle/working\n",
    "FileLink(r'file.zip')"
   ]
  },
  {
   "cell_type": "code",
   "execution_count": 19,
   "id": "89f93727",
   "metadata": {
    "execution": {
     "iopub.execute_input": "2024-01-21T12:46:15.255971Z",
     "iopub.status.busy": "2024-01-21T12:46:15.255178Z",
     "iopub.status.idle": "2024-01-21T12:46:15.262878Z",
     "shell.execute_reply": "2024-01-21T12:46:15.262032Z"
    },
    "papermill": {
     "duration": 1.047702,
     "end_time": "2024-01-21T12:46:15.264844",
     "exception": false,
     "start_time": "2024-01-21T12:46:14.217142",
     "status": "completed"
    },
    "tags": []
   },
   "outputs": [],
   "source": [
    "import zipfile\n",
    "import os\n",
    "from IPython.display import FileLink\n",
    "\n",
    "def zip_dir(directory = os.curdir, file_name = 'directory.zip'):\n",
    "    \"\"\"\n",
    "    zip all the files in a directory\n",
    "    \n",
    "    Parameters\n",
    "    _____\n",
    "    directory: str\n",
    "        directory needs to be zipped, defualt is current working directory\n",
    "        \n",
    "    file_name: str\n",
    "        the name of the zipped file (including .zip), default is 'directory.zip'\n",
    "        \n",
    "    Returns\n",
    "    _____\n",
    "    Creates a hyperlink, which can be used to download the zip file)\n",
    "    \"\"\"\n",
    "    os.chdir(directory)\n",
    "    zip_ref = zipfile.ZipFile(file_name, mode='w')\n",
    "    for folder, _, files in os.walk(directory):\n",
    "        for file in files:\n",
    "            if file_name in file:\n",
    "                pass\n",
    "            else:\n",
    "                zip_ref.write(os.path.join(folder, file))\n",
    "\n",
    "    return FileLink(file_name)"
   ]
  },
  {
   "cell_type": "code",
   "execution_count": 20,
   "id": "7e837215",
   "metadata": {
    "execution": {
     "iopub.execute_input": "2024-01-21T12:46:17.218776Z",
     "iopub.status.busy": "2024-01-21T12:46:17.218023Z",
     "iopub.status.idle": "2024-01-21T12:46:18.749530Z",
     "shell.execute_reply": "2024-01-21T12:46:18.748418Z"
    },
    "papermill": {
     "duration": 2.516393,
     "end_time": "2024-01-21T12:46:18.751670",
     "exception": false,
     "start_time": "2024-01-21T12:46:16.235277",
     "status": "completed"
    },
    "tags": []
   },
   "outputs": [
    {
     "data": {
      "text/html": [
       "<a href='directory.zip' target='_blank'>directory.zip</a><br>"
      ],
      "text/plain": [
       "/kaggle/working/directory.zip"
      ]
     },
     "execution_count": 20,
     "metadata": {},
     "output_type": "execute_result"
    }
   ],
   "source": [
    "zip_dir()"
   ]
  }
 ],
 "metadata": {
  "kaggle": {
   "accelerator": "nvidiaTeslaT4",
   "dataSources": [
    {
     "datasetId": 4333197,
     "sourceId": 7444644,
     "sourceType": "datasetVersion"
    }
   ],
   "dockerImageVersionId": 30635,
   "isGpuEnabled": true,
   "isInternetEnabled": true,
   "language": "python",
   "sourceType": "notebook"
  },
  "kernelspec": {
   "display_name": "Python 3",
   "language": "python",
   "name": "python3"
  },
  "language_info": {
   "codemirror_mode": {
    "name": "ipython",
    "version": 3
   },
   "file_extension": ".py",
   "mimetype": "text/x-python",
   "name": "python",
   "nbconvert_exporter": "python",
   "pygments_lexer": "ipython3",
   "version": "3.10.12"
  },
  "papermill": {
   "default_parameters": {},
   "duration": 6336.565864,
   "end_time": "2024-01-21T12:46:22.551629",
   "environment_variables": {},
   "exception": null,
   "input_path": "__notebook__.ipynb",
   "output_path": "__notebook__.ipynb",
   "parameters": {},
   "start_time": "2024-01-21T11:00:45.985765",
   "version": "2.4.0"
  }
 },
 "nbformat": 4,
 "nbformat_minor": 5
}
